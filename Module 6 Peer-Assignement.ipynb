{
 "cells": [
  {
   "cell_type": "markdown",
   "metadata": {},
   "source": [
    "# Tools for Data Science"
   ]
  },
  {
   "cell_type": "markdown",
   "metadata": {},
   "source": [
    "In this notebook we will talk about all the languages, libraries and tools available for Data Science"
   ]
  },
  {
   "cell_type": "markdown",
   "metadata": {},
   "source": [
    "# Languages for Data Science\n",
    "\n",
    "- **Python** A versatile, high-level language known for its readability and extensive libraries that support data manipulation, numerical analysis, and machine learning.\n",
    "- **R**  Designed for statistical analysis and visualization, R provides powerful packages for data exploration and high-quality graphical representations.\n",
    "- **SQL** The standard language for managing relational databases, SQL enables efficient data retrieval and manipulation, making it essential for data extraction tasks.\n",
    "- **Scala** A language combining object-oriented and functional programming, often used with Apache Spark for large-scale data processing and analytics.\n",
    "- **Java** A widely-used, object-oriented language known for its scalability, commonly employed in enterprise-level data applications and frameworks like Apache Hadoop.\n",
    "- **C++** A high-performance language used for speed-critical tasks in data science, such as optimizing machine learning algorithms and numerical computations.\n",
    "- **Julia** A high-level, high-performance language for numerical and scientific computing, Julia is known for its speed and ease of use, with growing support in the data science community.\n"
   ]
  },
  {
   "cell_type": "markdown",
   "metadata": {},
   "source": [
    "# Languages for Data Science\n",
    "\n",
    "## Python\n",
    "\n",
    "- **Pandas** For data manipulation and analysis, providing data structures like DataFrames.\n",
    "- **NumPy** For numerical computing and handling arrays.\n",
    "- **Matplotlib** For creating static, animated, and interactive visualizations.\n",
    "- **Seaborn** For statistical data visualization based on Matplotlib.\n",
    "- **scikit-learn** For machine learning and data mining.\n",
    "- **TensorFlow** For deep learning and neural network applications.\n",
    "- **PyTorch** For deep learning, with a focus on flexibility and speed.\n",
    "\n",
    "## R\n",
    "\n",
    "- **ggplot2** For data visualization based on the Grammar of Graphics.\n",
    "- **dplyr**  For data manipulation and transformation.\n",
    "- **tidyr** For data tidying and reshaping.\n",
    "- **caret** For machine learning and model training.\n",
    "- **shiny** For building interactive web applications.\n",
    "- **stringr** For string manipulation.\n",
    "\n"
   ]
  },
  {
   "cell_type": "markdown",
   "metadata": {},
   "source": [
    "| Data Science Tools |\n",
    "| ---------------- |\n",
    "| Jupyter Notebook |\n",
    "| RStudio |\n",
    "| VS Code |"
   ]
  },
  {
   "cell_type": "markdown",
   "metadata": {},
   "source": [
    "## Introducing arithmetic expression examples\n",
    "\n",
    "In the next few code blocks we will give some examples of how Python can be used to solve arithmetic.\n"
   ]
  },
  {
   "cell_type": "code",
   "execution_count": 13,
   "metadata": {},
   "outputs": [
    {
     "data": {
      "text/plain": [
       "7"
      ]
     },
     "execution_count": 13,
     "metadata": {},
     "output_type": "execute_result"
    }
   ],
   "source": [
    "# This cell will multiply and then add integers.\n",
    "(3 * 2) + 1"
   ]
  },
  {
   "cell_type": "code",
   "execution_count": 14,
   "metadata": {},
   "outputs": [
    {
     "name": "stdout",
     "output_type": "stream",
     "text": [
      "205.75\n"
     ]
    }
   ],
   "source": [
    "# this cell will assign a value to a variable called minutes. Then divides the \n",
    "# value  of minutes by 60 and assign it to hoursFromMinutes, and afterwards prints it. \n",
    "\n",
    "minutes  = 12345\n",
    "\n",
    "hoursFromMinutes = minutes / 60\n",
    "\n",
    "print(hoursFromMinutes)"
   ]
  },
  {
   "cell_type": "markdown",
   "metadata": {},
   "source": [
    "# Objectives\n"
   ]
  },
  {
   "cell_type": "markdown",
   "metadata": {},
   "source": [
    "**Author’s name:** Jasper Brancart"
   ]
  }
 ],
 "metadata": {
  "kernelspec": {
   "display_name": "Python 3 (ipykernel)",
   "language": "python",
   "name": "python3"
  },
  "language_info": {
   "codemirror_mode": {
    "name": "ipython",
    "version": 3
   },
   "file_extension": ".py",
   "mimetype": "text/x-python",
   "name": "python",
   "nbconvert_exporter": "python",
   "pygments_lexer": "ipython3",
   "version": "3.11.9"
  }
 },
 "nbformat": 4,
 "nbformat_minor": 4
}
